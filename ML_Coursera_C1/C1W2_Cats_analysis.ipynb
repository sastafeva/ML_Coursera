{
 "cells": [
  {
   "cell_type": "code",
   "execution_count": 85,
   "metadata": {},
   "outputs": [],
   "source": [
    "import numpy as np\n",
    "import scipy as sp\n",
    "import re\n",
    "from scipy.spatial import distance"
   ]
  },
  {
   "cell_type": "code",
   "execution_count": 86,
   "metadata": {},
   "outputs": [
    {
     "name": "stdout",
     "output_type": "stream",
     "text": [
      "['in comparison to dogs, cats have not undergone major changes during the domestication process.', 'as cat simply catenates streams of bytes, it can be also used to concatenate binary files, where it will just concatenate sequence of bytes.', 'a common interactive use of cat for a single file is to output the content of a file to standard output.', 'cats can hear sounds too faint or too high in frequency for human ears, such as those made by mice and other small animals.', 'in one, people deliberately tamed cats in a process of artificial selection, as they were useful predators of vermin.', 'the domesticated cat and its closest wild ancestor are both diploid organisms that possess 38 chromosomes and roughly 20,000 genes.', 'domestic cats are similar in size to the other members of the genus felis, typically weighing between 4 and 5 kg (8.8 and 11.0 lb).', 'however, if the output is piped or redirected, cat is unnecessary.', 'cat with one named file is safer where human error is a concern - one wrong use of the default redirection symbol \">\" instead of \"<\" (often adjacent on keyboards) may permanently delete the file you were just needing to read.', 'in terms of legibility, a sequence of commands starting with cat and connected by pipes has a clear left-to-right flow of information.', 'cat command is one of the basic commands that you learned when you started in the unix / linux world.', 'using cat command, the lines received from stdin can be redirected to a new file using redirection symbols.', 'when you type simply cat command without any arguments, it just receives the stdin content and displays it in the stdout.', 'leopard was released on october 26, 2007 as the successor of tiger (version 10.4), and is available in two editions.', 'according to apple, leopard contains over 300 changes and enhancements over its predecessor, mac os x tiger.', 'as of mid 2010, some apple computers have firmware factory installed which will no longer allow installation of mac os x leopard.', 'since apple moved to using intel processors in their computers, the osx86 community has developed and now also allows mac os x tiger and later releases to be installed on non-apple x86-based computers.', \"os x mountain lion was released on july 25, 2012 for purchase and download through apple's mac app store, as part of a switch to releasing os x versions online and every year.\", 'apple has released a small patch for the three most recent versions of safari running on os x yosemite, mavericks, and mountain lion.', 'the mountain lion release marks the second time apple has offered an incremental upgrade, rather than releasing a new cat entirely.', \"mac os x mountain lion installs in place, so you won't need to create a separate disk or run the installation off an external drive.\", \"the fifth major update to mac os x, leopard, contains such a mountain of features - more than 300 by apple's count.\"]\n"
     ]
    }
   ],
   "source": [
    "# Запись каждого предложения в список (с понижением регистра и с отрезанием конца строки)\n",
    "data_list = []\n",
    "with open('sentences.txt') as file_obj:\n",
    "    for line in file_obj.readlines():\n",
    "        data_list.append(line.lower().strip())\n",
    "print(data_list)"
   ]
  },
  {
   "cell_type": "code",
   "execution_count": null,
   "metadata": {},
   "outputs": [],
   "source": []
  },
  {
   "cell_type": "code",
   "execution_count": 35,
   "metadata": {},
   "outputs": [],
   "source": [
    "# Запись каждого предложения в список (без понижения регистра и без отрезаниz конца строки)\n",
    "with open('sentences.txt') as file_obj:\n",
    "    data_list2 = file_obj.readlines()\n",
    "       \n",
    "#print(data_list2)"
   ]
  },
  {
   "cell_type": "markdown",
   "metadata": {},
   "source": [
    "## Запись содержимого файла в строку с понижением регистра и отрезанием окончания"
   ]
  },
  {
   "cell_type": "code",
   "execution_count": 89,
   "metadata": {},
   "outputs": [
    {
     "name": "stdout",
     "output_type": "stream",
     "text": [
      "['in', 'comparison', 'to', 'dogs', 'cats', 'have', 'not', 'undergone', 'major', 'changes', 'during', 'the', 'domestication', 'process', 'as', 'cat', 'simply', 'catenates', 'streams', 'of', 'bytes', 'it', 'can', 'be', 'also', 'used', 'to', 'concatenate', 'binary', 'files', 'where', 'it', 'will', 'just', 'concatenate', 'sequence', 'of', 'bytes', 'a', 'common', 'interactive', 'use', 'of', 'cat', 'for', 'a', 'single', 'file', 'is', 'to', 'output', 'the', 'content', 'of', 'a', 'file', 'to', 'standard', 'output', 'cats', 'can', 'hear', 'sounds', 'too', 'faint', 'or', 'too', 'high', 'in', 'frequency', 'for', 'human', 'ears', 'such', 'as', 'those', 'made', 'by', 'mice', 'and', 'other', 'small', 'animals', 'in', 'one', 'people', 'deliberately', 'tamed', 'cats', 'in', 'a', 'process', 'of', 'artificial', 'selection', 'as', 'they', 'were', 'useful', 'predators', 'of', 'vermin', 'the', 'domesticated', 'cat', 'and', 'its', 'closest', 'wild', 'ancestor', 'are', 'both', 'diploid', 'organisms', 'that', 'possess', 'chromosomes', 'and', 'roughly', 'genes', 'domestic', 'cats', 'are', 'similar', 'in', 'size', 'to', 'the', 'other', 'members', 'of', 'the', 'genus', 'felis', 'typically', 'weighing', 'between', 'and', 'kg', 'and', 'lb', 'however', 'if', 'the', 'output', 'is', 'piped', 'or', 'redirected', 'cat', 'is', 'unnecessary', 'cat', 'with', 'one', 'named', 'file', 'is', 'safer', 'where', 'human', 'error', 'is', 'a', 'concern', 'one', 'wrong', 'use', 'of', 'the', 'default', 'redirection', 'symbol', 'instead', 'of', 'often', 'adjacent', 'on', 'keyboards', 'may', 'permanently', 'delete', 'the', 'file', 'you', 'were', 'just', 'needing', 'to', 'read', 'in', 'terms', 'of', 'legibility', 'a', 'sequence', 'of', 'commands', 'starting', 'with', 'cat', 'and', 'connected', 'by', 'pipes', 'has', 'a', 'clear', 'left', 'to', 'right', 'flow', 'of', 'information', 'cat', 'command', 'is', 'one', 'of', 'the', 'basic', 'commands', 'that', 'you', 'learned', 'when', 'you', 'started', 'in', 'the', 'unix', 'linux', 'world', 'using', 'cat', 'command', 'the', 'lines', 'received', 'from', 'stdin', 'can', 'be', 'redirected', 'to', 'a', 'new', 'file', 'using', 'redirection', 'symbols', 'when', 'you', 'type', 'simply', 'cat', 'command', 'without', 'any', 'arguments', 'it', 'just', 'receives', 'the', 'stdin', 'content', 'and', 'displays', 'it', 'in', 'the', 'stdout', 'leopard', 'was', 'released', 'on', 'october', 'as', 'the', 'successor', 'of', 'tiger', 'version', 'and', 'is', 'available', 'in', 'two', 'editions', 'according', 'to', 'apple', 'leopard', 'contains', 'over', 'changes', 'and', 'enhancements', 'over', 'its', 'predecessor', 'mac', 'os', 'x', 'tiger', 'as', 'of', 'mid', 'some', 'apple', 'computers', 'have', 'firmware', 'factory', 'installed', 'which', 'will', 'no', 'longer', 'allow', 'installation', 'of', 'mac', 'os', 'x', 'leopard', 'since', 'apple', 'moved', 'to', 'using', 'intel', 'processors', 'in', 'their', 'computers', 'the', 'osx', 'community', 'has', 'developed', 'and', 'now', 'also', 'allows', 'mac', 'os', 'x', 'tiger', 'and', 'later', 'releases', 'to', 'be', 'installed', 'on', 'non', 'apple', 'x', 'based', 'computers', 'os', 'x', 'mountain', 'lion', 'was', 'released', 'on', 'july', 'for', 'purchase', 'and', 'download', 'through', 'apple', 's', 'mac', 'app', 'store', 'as', 'part', 'of', 'a', 'switch', 'to', 'releasing', 'os', 'x', 'versions', 'online', 'and', 'every', 'year', 'apple', 'has', 'released', 'a', 'small', 'patch', 'for', 'the', 'three', 'most', 'recent', 'versions', 'of', 'safari', 'running', 'on', 'os', 'x', 'yosemite', 'mavericks', 'and', 'mountain', 'lion', 'the', 'mountain', 'lion', 'release', 'marks', 'the', 'second', 'time', 'apple', 'has', 'offered', 'an', 'incremental', 'upgrade', 'rather', 'than', 'releasing', 'a', 'new', 'cat', 'entirely', 'mac', 'os', 'x', 'mountain', 'lion', 'installs', 'in', 'place', 'so', 'you', 'won', 't', 'need', 'to', 'create', 'a', 'separate', 'disk', 'or', 'run', 'the', 'installation', 'off', 'an', 'external', 'drive', 'the', 'fifth', 'major', 'update', 'to', 'mac', 'os', 'x', 'leopard', 'contains', 'such', 'a', 'mountain', 'of', 'features', 'more', 'than', 'by', 'apple', 's', 'count']\n",
      "484\n"
     ]
    }
   ],
   "source": [
    "a=''\n",
    "with open('sentences.txt') as file_obj:\n",
    "    for line in file_obj.readlines():\n",
    "        a += line.lower().strip()\n",
    "        \n",
    "# Разрезание строки на слова и запись все в список:       \n",
    "data_list3 = re.split('[^a-z]', a)\n",
    "\n",
    "# Создание нового списка с \"выкидыванием\" пробелов:\n",
    "data_list4 = [value for value in data_list3 if value]\n",
    "print(data_list4)\n",
    "print(len(data_list4))"
   ]
  },
  {
   "cell_type": "code",
   "execution_count": 90,
   "metadata": {},
   "outputs": [
    {
     "name": "stdout",
     "output_type": "stream",
     "text": [
      "254 just\n"
     ]
    }
   ],
   "source": [
    "# Убираем повторяющиеся слова с помощью превращения в set и обратно в list\n",
    "data_set = list(set(data_list4))\n",
    "print(len(data_set), data_set[1])"
   ]
  },
  {
   "cell_type": "code",
   "execution_count": 91,
   "metadata": {},
   "outputs": [
    {
     "name": "stdout",
     "output_type": "stream",
     "text": [
      "{0: 'concern', 1: 'just', 2: 'rather', 3: 'chromosomes', 4: 'separate', 5: 'lines', 6: 'the', 7: 'stdin', 8: 'most', 9: 'any', 10: 'enhancements', 11: 'domesticated', 12: 'major', 13: 'output', 14: 'processors', 15: 'clear', 16: 'using', 17: 'read', 18: 'streams', 19: 'external', 20: 'apple', 21: 'type', 22: 'tiger', 23: 'content', 24: 'be', 25: 'high', 26: 'received', 27: 'more', 28: 'running', 29: 'wrong', 30: 'linux', 31: 'released', 32: 'stdout', 33: 'non', 34: 'contains', 35: 'interactive', 36: 'safer', 37: 'have', 38: 'release', 39: 'people', 40: 'genes', 41: 'longer', 42: 'receives', 43: 'both', 44: 'files', 45: 'information', 46: 'allow', 47: 'needing', 48: 'installation', 49: 'single', 50: 'time', 51: 'displays', 52: 'adjacent', 53: 'small', 54: 'right', 55: 'permanently', 56: 'sounds', 57: 'piped', 58: 'domestic', 59: 'without', 60: 'bytes', 61: 'weighing', 62: 'installed', 63: 'by', 64: 'off', 65: 'vermin', 66: 'no', 67: 'switch', 68: 'diploid', 69: 'kg', 70: 'often', 71: 'editions', 72: 'factory', 73: 'fifth', 74: 'according', 75: 'that', 76: 'need', 77: 'update', 78: 'to', 79: 'than', 80: 'place', 81: 'or', 82: 'file', 83: 'default', 84: 'october', 85: 'patch', 86: 'with', 87: 'where', 88: 'closest', 89: 'its', 90: 'arguments', 91: 'through', 92: 'catenates', 93: 'command', 94: 'lb', 95: 'leopard', 96: 'comparison', 97: 'unnecessary', 98: 'ears', 99: 'named', 100: 'symbol', 101: 'part', 102: 'is', 103: 'started', 104: 'when', 105: 'installs', 106: 'drive', 107: 'features', 108: 'download', 109: 'count', 110: 'july', 111: 'process', 112: 'those', 113: 'safari', 114: 'create', 115: 'dogs', 116: 'purchase', 117: 'useful', 118: 'redirected', 119: 'legibility', 120: 'domestication', 121: 'and', 122: 'one', 123: 'changes', 124: 'between', 125: 'intel', 126: 's', 127: 'they', 128: 'so', 129: 'instead', 130: 'some', 131: 'similar', 132: 'for', 133: 'world', 134: 'undergone', 135: 'will', 136: 'binary', 137: 'during', 138: 'made', 139: 'tamed', 140: 'flow', 141: 'learned', 142: 'animals', 143: 'felis', 144: 'successor', 145: 'now', 146: 'basic', 147: 'frequency', 148: 'predecessor', 149: 'standard', 150: 'releases', 151: 'commands', 152: 'allows', 153: 'every', 154: 'use', 155: 'too', 156: 'has', 157: 'over', 158: 'x', 159: 'moved', 160: 'was', 161: 'store', 162: 'selection', 163: 'releasing', 164: 'typically', 165: 'on', 166: 'pipes', 167: 'predators', 168: 'you', 169: 'firmware', 170: 'entirely', 171: 'second', 172: 'however', 173: 'in', 174: 'left', 175: 'deliberately', 176: 'wild', 177: 'os', 178: 'symbols', 179: 'app', 180: 'since', 181: 'upgrade', 182: 'run', 183: 'developed', 184: 'a', 185: 'terms', 186: 'roughly', 187: 'as', 188: 'may', 189: 'used', 190: 'community', 191: 'starting', 192: 'error', 193: 'such', 194: 'can', 195: 'new', 196: 'which', 197: 'mountain', 198: 'unix', 199: 'organisms', 200: 'members', 201: 'faint', 202: 'mid', 203: 'year', 204: 'won', 205: 'available', 206: 'lion', 207: 'mice', 208: 'also', 209: 'concatenate', 210: 'disk', 211: 'delete', 212: 'were', 213: 'sequence', 214: 'redirection', 215: 'cat', 216: 'are', 217: 'osx', 218: 'possess', 219: 'versions', 220: 'two', 221: 'cats', 222: 'ancestor', 223: 'their', 224: 'artificial', 225: 'later', 226: 'not', 227: 't', 228: 'based', 229: 'online', 230: 'three', 231: 'connected', 232: 'computers', 233: 'of', 234: 'keyboards', 235: 'if', 236: 'it', 237: 'human', 238: 'hear', 239: 'mac', 240: 'offered', 241: 'incremental', 242: 'simply', 243: 'yosemite', 244: 'mavericks', 245: 'marks', 246: 'recent', 247: 'common', 248: 'from', 249: 'an', 250: 'genus', 251: 'version', 252: 'size', 253: 'other'}\n"
     ]
    }
   ],
   "source": [
    "#Создаем словарь ключ - цифра от нуля до кол-ва слов в data_set, значение - слово\n",
    "j = 0\n",
    "dict_data_words = {}\n",
    "for i in data_set:\n",
    "    dict_data_words[j] = i\n",
    "    j +=1\n",
    "print(dict_data_words)\n",
    "        "
   ]
  },
  {
   "cell_type": "code",
   "execution_count": 92,
   "metadata": {},
   "outputs": [
    {
     "name": "stdout",
     "output_type": "stream",
     "text": [
      "(22, 254)\n",
      "[[0. 0. 0. ... 0. 0. 0.]\n",
      " [0. 0. 0. ... 0. 0. 0.]\n",
      " [0. 0. 0. ... 0. 0. 0.]\n",
      " ...\n",
      " [0. 0. 0. ... 0. 0. 0.]\n",
      " [0. 0. 0. ... 0. 0. 0.]\n",
      " [0. 0. 0. ... 0. 0. 0.]]\n"
     ]
    }
   ],
   "source": [
    "# Создаем нулевую матрицу (кол-во предложений, кол-во слов)\n",
    "matrix_cats = np.zeros((len(data_list), len(data_set)))\n",
    "print(matrix_cats.shape)\n",
    "print(matrix_cats)"
   ]
  },
  {
   "cell_type": "code",
   "execution_count": 93,
   "metadata": {},
   "outputs": [
    {
     "name": "stdout",
     "output_type": "stream",
     "text": [
      "{0: ['in', 'comparison', 'to', 'dogs', '', 'cats', 'have', 'not', 'undergone', 'major', 'changes', 'during', 'the', 'domestication', 'process', ''], 1: ['as', 'cat', 'simply', 'catenates', 'streams', 'of', 'bytes', '', 'it', 'can', 'be', 'also', 'used', 'to', 'concatenate', 'binary', 'files', '', 'where', 'it', 'will', 'just', 'concatenate', 'sequence', 'of', 'bytes', ''], 2: ['a', 'common', 'interactive', 'use', 'of', 'cat', 'for', 'a', 'single', 'file', 'is', 'to', 'output', 'the', 'content', 'of', 'a', 'file', 'to', 'standard', 'output', ''], 3: ['cats', 'can', 'hear', 'sounds', 'too', 'faint', 'or', 'too', 'high', 'in', 'frequency', 'for', 'human', 'ears', '', 'such', 'as', 'those', 'made', 'by', 'mice', 'and', 'other', 'small', 'animals', ''], 4: ['in', 'one', '', 'people', 'deliberately', 'tamed', 'cats', 'in', 'a', 'process', 'of', 'artificial', 'selection', '', 'as', 'they', 'were', 'useful', 'predators', 'of', 'vermin', ''], 5: ['the', 'domesticated', 'cat', 'and', 'its', 'closest', 'wild', 'ancestor', 'are', 'both', 'diploid', 'organisms', 'that', 'possess', '', '', '', 'chromosomes', 'and', 'roughly', '', '', '', '', '', '', '', 'genes', ''], 6: ['domestic', 'cats', 'are', 'similar', 'in', 'size', 'to', 'the', 'other', 'members', 'of', 'the', 'genus', 'felis', '', 'typically', 'weighing', 'between', '', '', 'and', '', '', 'kg', '', '', '', '', '', 'and', '', '', '', '', '', 'lb', '', ''], 7: ['however', '', 'if', 'the', 'output', 'is', 'piped', 'or', 'redirected', '', 'cat', 'is', 'unnecessary', ''], 8: ['cat', 'with', 'one', 'named', 'file', 'is', 'safer', 'where', 'human', 'error', 'is', 'a', 'concern', '', '', 'one', 'wrong', 'use', 'of', 'the', 'default', 'redirection', 'symbol', '', '', '', '', 'instead', 'of', '', '', '', '', '', 'often', 'adjacent', 'on', 'keyboards', '', 'may', 'permanently', 'delete', 'the', 'file', 'you', 'were', 'just', 'needing', 'to', 'read', ''], 9: ['in', 'terms', 'of', 'legibility', '', 'a', 'sequence', 'of', 'commands', 'starting', 'with', 'cat', 'and', 'connected', 'by', 'pipes', 'has', 'a', 'clear', 'left', 'to', 'right', 'flow', 'of', 'information', ''], 10: ['cat', 'command', 'is', 'one', 'of', 'the', 'basic', 'commands', 'that', 'you', 'learned', 'when', 'you', 'started', 'in', 'the', 'unix', '', '', 'linux', 'world', ''], 11: ['using', 'cat', 'command', '', 'the', 'lines', 'received', 'from', 'stdin', 'can', 'be', 'redirected', 'to', 'a', 'new', 'file', 'using', 'redirection', 'symbols', ''], 12: ['when', 'you', 'type', 'simply', 'cat', 'command', 'without', 'any', 'arguments', '', 'it', 'just', 'receives', 'the', 'stdin', 'content', 'and', 'displays', 'it', 'in', 'the', 'stdout', ''], 13: ['leopard', 'was', 'released', 'on', 'october', '', '', '', '', '', '', '', '', '', 'as', 'the', 'successor', 'of', 'tiger', '', 'version', '', '', '', '', '', '', '', 'and', 'is', 'available', 'in', 'two', 'editions', ''], 14: ['according', 'to', 'apple', '', 'leopard', 'contains', 'over', '', '', '', '', 'changes', 'and', 'enhancements', 'over', 'its', 'predecessor', '', 'mac', 'os', 'x', 'tiger', ''], 15: ['as', 'of', 'mid', '', '', '', '', '', '', 'some', 'apple', 'computers', 'have', 'firmware', 'factory', 'installed', 'which', 'will', 'no', 'longer', 'allow', 'installation', 'of', 'mac', 'os', 'x', 'leopard', ''], 16: ['since', 'apple', 'moved', 'to', 'using', 'intel', 'processors', 'in', 'their', 'computers', '', 'the', 'osx', '', '', 'community', 'has', 'developed', 'and', 'now', 'also', 'allows', 'mac', 'os', 'x', 'tiger', 'and', 'later', 'releases', 'to', 'be', 'installed', 'on', 'non', 'apple', 'x', '', '', 'based', 'computers', ''], 17: ['os', 'x', 'mountain', 'lion', 'was', 'released', 'on', 'july', '', '', '', '', '', '', '', '', '', 'for', 'purchase', 'and', 'download', 'through', 'apple', 's', 'mac', 'app', 'store', '', 'as', 'part', 'of', 'a', 'switch', 'to', 'releasing', 'os', 'x', 'versions', 'online', 'and', 'every', 'year', ''], 18: ['apple', 'has', 'released', 'a', 'small', 'patch', 'for', 'the', 'three', 'most', 'recent', 'versions', 'of', 'safari', 'running', 'on', 'os', 'x', 'yosemite', '', 'mavericks', '', 'and', 'mountain', 'lion', ''], 19: ['the', 'mountain', 'lion', 'release', 'marks', 'the', 'second', 'time', 'apple', 'has', 'offered', 'an', 'incremental', 'upgrade', '', 'rather', 'than', 'releasing', 'a', 'new', 'cat', 'entirely', ''], 20: ['mac', 'os', 'x', 'mountain', 'lion', 'installs', 'in', 'place', '', 'so', 'you', 'won', 't', 'need', 'to', 'create', 'a', 'separate', 'disk', 'or', 'run', 'the', 'installation', 'off', 'an', 'external', 'drive', ''], 21: ['the', 'fifth', 'major', 'update', 'to', 'mac', 'os', 'x', '', 'leopard', '', 'contains', 'such', 'a', 'mountain', 'of', 'features', '', '', 'more', 'than', '', '', '', '', 'by', 'apple', 's', 'count', '']}\n"
     ]
    }
   ],
   "source": [
    "# Создаем словарь слов в предложении\n",
    "j = 0\n",
    "dict_stroki = {}\n",
    "for i in data_list:\n",
    "    dict_stroki[j] = re.split('[^a-z]', i)\n",
    "    j += 1\n",
    "print(dict_stroki)\n",
    "\n"
   ]
  },
  {
   "cell_type": "code",
   "execution_count": 94,
   "metadata": {},
   "outputs": [
    {
     "name": "stdout",
     "output_type": "stream",
     "text": [
      "[1. 1. 0. 0. 0. 0. 2. 0. 0. 0. 0. 0. 0. 0. 0. 0. 0. 1. 0. 0. 0. 0. 0. 0.\n",
      " 0. 0. 0. 0. 0. 1. 0. 0. 0. 0. 0. 0. 1. 0. 0. 0. 0. 0. 0. 0. 0. 0. 0. 1.\n",
      " 0. 0. 0. 0. 1. 0. 0. 1. 0. 0. 0. 0. 0. 0. 0. 0. 0. 0. 0. 0. 0. 0. 1. 0.\n",
      " 0. 0. 0. 0. 0. 0. 1. 0. 0. 0. 2. 1. 0. 0. 1. 1. 0. 0. 0. 0. 0. 0. 0. 0.\n",
      " 0. 0. 0. 1. 1. 0. 2. 0. 0. 0. 0. 0. 0. 0. 0. 0. 0. 0. 0. 0. 0. 0. 0. 0.\n",
      " 0. 0. 2. 0. 0. 0. 0. 0. 0. 1. 0. 0. 0. 0. 0. 0. 0. 0. 0. 0. 0. 0. 0. 0.\n",
      " 0. 0. 0. 0. 0. 0. 0. 0. 0. 0. 1. 0. 0. 0. 0. 0. 0. 0. 0. 0. 0. 1. 0. 0.\n",
      " 1. 0. 0. 0. 0. 0. 0. 0. 0. 0. 0. 0. 0. 0. 0. 0. 1. 0. 0. 0. 1. 0. 0. 0.\n",
      " 1. 0. 0. 0. 0. 0. 0. 0. 0. 0. 0. 0. 0. 0. 0. 0. 0. 0. 0. 1. 1. 0. 1. 1.\n",
      " 0. 0. 0. 0. 0. 0. 0. 0. 0. 0. 0. 0. 0. 0. 0. 0. 0. 2. 1. 0. 0. 1. 0. 0.\n",
      " 0. 0. 0. 0. 0. 0. 0. 0. 0. 0. 0. 0. 0. 0.]\n"
     ]
    }
   ],
   "source": [
    "# Заполняем матрицу кол-вом слов, входящих в предложение\n",
    "for i in range(len(data_list)):\n",
    "    for j in range(len(data_set)):\n",
    "        m = 0\n",
    "        m = dict_stroki[i].count(dict_data_words[j])\n",
    "        matrix_cats[i,j] = m\n",
    "print(matrix_cats[8])"
   ]
  },
  {
   "cell_type": "code",
   "execution_count": 104,
   "metadata": {},
   "outputs": [
    {
     "name": "stdout",
     "output_type": "stream",
     "text": [
      "[0.9527544408738466, 0.8644738145642124, 0.8951715163278082, 0.7770887149698589, 0.9402385695332803, 0.7327387580875756, 0.9258750683338899, 0.8842724875284311, 0.9055088817476932, 0.8328165362273942, 0.8804771390665607, 0.8396432548525454, 0.8703592552895671, 0.8740118423302576, 0.9442721787424647, 0.8406361854220809, 0.956644501523794, 0.9442721787424647, 0.8885443574849294, 0.8427572744917122, 0.8250364469440588]\n",
      "21\n"
     ]
    }
   ],
   "source": [
    "# Записываем косинусные расстояния в список\n",
    "ans=[]\n",
    "for i in range(1, len(data_list)):\n",
    "    ans.append(distance.cosine(matrix_cats[i], matrix_cats[0]))\n",
    "print(ans, len(ans), sep = '\\n')"
   ]
  },
  {
   "cell_type": "code",
   "execution_count": 105,
   "metadata": {},
   "outputs": [
    {
     "name": "stdout",
     "output_type": "stream",
     "text": [
      "[0.7327387580875756, 0.7770887149698589, 0.8250364469440588, 0.8328165362273942, 0.8396432548525454, 0.8406361854220809, 0.8427572744917122, 0.8644738145642124, 0.8703592552895671, 0.8740118423302576, 0.8804771390665607, 0.8842724875284311, 0.8885443574849294, 0.8951715163278082, 0.9055088817476932, 0.9258750683338899, 0.9402385695332803, 0.9442721787424647, 0.9442721787424647, 0.9527544408738466, 0.956644501523794]\n"
     ]
    }
   ],
   "source": [
    "# Выбираем 2 минимальных значения из списка ans\n",
    "\n",
    "ans_2 = sorted(ans)\n",
    "print(ans_2)"
   ]
  },
  {
   "cell_type": "code",
   "execution_count": 107,
   "metadata": {},
   "outputs": [
    {
     "name": "stdout",
     "output_type": "stream",
     "text": [
      "[4, 6]\n"
     ]
    }
   ],
   "source": [
    "# находим порядковый номер минимальных значений\n",
    "\n",
    "final_answer = []\n",
    "\n",
    "for i in range(len(ans)):\n",
    "    if ans[i] == ans_2[0]:\n",
    "        final_answer.append(i+1)\n",
    "    if ans[i] == ans_2[1]:\n",
    "        final_answer.append(i+1)\n",
    "\n",
    "print(final_answer)        "
   ]
  },
  {
   "cell_type": "code",
   "execution_count": 108,
   "metadata": {},
   "outputs": [],
   "source": [
    "# Записываем ответ в файл\n",
    "with open('answer_C1W2_1.txt', 'w') as file_obj:\n",
    "    file_obj.write(str(str(final_answer[1]) + ' ' + str(final_answer[0])))"
   ]
  },
  {
   "cell_type": "code",
   "execution_count": null,
   "metadata": {},
   "outputs": [],
   "source": []
  }
 ],
 "metadata": {
  "kernelspec": {
   "display_name": "Python 3",
   "language": "python",
   "name": "python3"
  },
  "language_info": {
   "codemirror_mode": {
    "name": "ipython",
    "version": 3
   },
   "file_extension": ".py",
   "mimetype": "text/x-python",
   "name": "python",
   "nbconvert_exporter": "python",
   "pygments_lexer": "ipython3",
   "version": "3.7.4"
  }
 },
 "nbformat": 4,
 "nbformat_minor": 2
}
