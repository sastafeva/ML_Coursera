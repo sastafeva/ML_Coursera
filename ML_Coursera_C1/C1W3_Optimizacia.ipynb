{
 "cells": [
  {
   "cell_type": "code",
   "execution_count": 7,
   "metadata": {},
   "outputs": [],
   "source": [
    "import numpy as np\n",
    "from scipy import optimize\n",
    "%matplotlib inline\n",
    "from matplotlib import pylab as plt"
   ]
  },
  {
   "cell_type": "code",
   "execution_count": 5,
   "metadata": {},
   "outputs": [
    {
     "data": {
      "image/png": "[encoded data removed]",
      "text/plain": [
       "<Figure size 432x288 with 1 Axes>"
      ]
     },
     "metadata": {
      "needs_background": "light"
     },
     "output_type": "display_data"
    }
   ],
   "source": [
    "# Строим график функции на интервале [1, 30]. Видим, что 2 минимума.\n",
    "x = np.arange(1, 31, 0.1)\n",
    "y = np.sin(x / 5) * np.exp(x / 10) + 5 * np.exp(-x / 2)\n",
    "plt.plot(x, y)\n",
    "plt.show()"
   ]
  },
  {
   "cell_type": "code",
   "execution_count": 8,
   "metadata": {},
   "outputs": [],
   "source": [
    "# Для дальнейших расчетов создаем функцию\n",
    "def f(x):\n",
    "    return np.sin(x / 5) * np.exp(x / 10) + 5 * np.exp(-x / 2)"
   ]
  },
  {
   "cell_type": "code",
   "execution_count": 63,
   "metadata": {},
   "outputs": [
    {
     "data": {
      "text/plain": [
       "      fun: 1.7452682903447336\n",
       " hess_inv: array([[5.98752645]])\n",
       "      jac: array([-2.04145908e-06])\n",
       "  message: 'Optimization terminated successfully.'\n",
       "     nfev: 21\n",
       "      nit: 6\n",
       "     njev: 7\n",
       "   status: 0\n",
       "  success: True\n",
       "        x: array([4.13627628])"
      ]
     },
     "execution_count": 63,
     "metadata": {},
     "output_type": "execute_result"
    }
   ],
   "source": [
    "optimize.minimize(f, 2) # Приближение X = 2"
   ]
  },
  {
   "cell_type": "code",
   "execution_count": 24,
   "metadata": {},
   "outputs": [
    {
     "data": {
      "text/plain": [
       "      fun: 1.7452682903447336\n",
       " hess_inv: array([[5.98752645]])\n",
       "      jac: array([-2.04145908e-06])\n",
       "  message: 'Optimization terminated successfully.'\n",
       "     nfev: 21\n",
       "      nit: 6\n",
       "     njev: 7\n",
       "   status: 0\n",
       "  success: True\n",
       "        x: array([4.13627628])"
      ]
     },
     "execution_count": 24,
     "metadata": {},
     "output_type": "execute_result"
    }
   ],
   "source": [
    "optimize.minimize(f, 2, method='BFGS') # Приближение X = 2. Метод BFGS\n"
   ]
  },
  {
   "cell_type": "code",
   "execution_count": 132,
   "metadata": {},
   "outputs": [
    {
     "name": "stdout",
     "output_type": "stream",
     "text": [
      "1.7452682903447336\n",
      "1.75\n"
     ]
    }
   ],
   "source": [
    "# Записываем 1 ответ по ДЗ в переменную\n",
    "ans_1_1 = optimize.minimize(f, 2, method='BFGS')\n",
    "print (ans_1_1.fun)\n",
    "answer_1_1 = round(ans_1_1.fun, 2)\n",
    "print (answer_1_1)"
   ]
  },
  {
   "cell_type": "code",
   "execution_count": 86,
   "metadata": {},
   "outputs": [
    {
     "data": {
      "text/plain": [
       "      fun: -11.898894665981313\n",
       " hess_inv: array([[1.67936744]])\n",
       "      jac: array([0.])\n",
       "  message: 'Optimization terminated successfully.'\n",
       "     nfev: 21\n",
       "      nit: 6\n",
       "     njev: 7\n",
       "   status: 0\n",
       "  success: True\n",
       "        x: array([25.88019321])"
      ]
     },
     "execution_count": 86,
     "metadata": {},
     "output_type": "execute_result"
    }
   ],
   "source": [
    "optimize.minimize(f, 30, method='BFGS') # Приближение X = 30. Метод BFGS"
   ]
  },
  {
   "cell_type": "code",
   "execution_count": 133,
   "metadata": {},
   "outputs": [
    {
     "name": "stdout",
     "output_type": "stream",
     "text": [
      "-11.898894665981313\n",
      "-11.9\n"
     ]
    }
   ],
   "source": [
    "# Записываем 2 ответ по ДЗ в переменную\n",
    "ans_1_2 = optimize.minimize(f, 30, method='BFGS')\n",
    "print (ans_1_2.fun)\n",
    "answer_1_2 = round(ans_1_2.fun, 2)\n",
    "print (answer_1_2)"
   ]
  },
  {
   "cell_type": "code",
   "execution_count": 138,
   "metadata": {},
   "outputs": [],
   "source": [
    "with open('C1W3_1_HW.txt', 'w') as file_obj:\n",
    "    file_obj.write(str(answer_1_1)+' '+str(answer_1_2))"
   ]
  },
  {
   "cell_type": "code",
   "execution_count": 70,
   "metadata": {},
   "outputs": [
    {
     "data": {
      "text/plain": [
       "      fun: -3412027.1111810943\n",
       " hess_inv: array([[105.64208549]])\n",
       "      jac: array([0.])\n",
       "  message: 'Optimization terminated successfully.'\n",
       "     nfev: 69\n",
       "      nit: 3\n",
       "     njev: 23\n",
       "   status: 0\n",
       "  success: True\n",
       "        x: array([151.54388902])"
      ]
     },
     "execution_count": 70,
     "metadata": {},
     "output_type": "execute_result"
    }
   ],
   "source": [
    "# Приближение X = 15. Метод BFGS. Результат не равен ожидаемому 25.88\n",
    "optimize.minimize(f, 15.5, method='BFGS')\n",
    "#Причем только в точке X=15, X = 14 или Х = 16 все верно\n",
    "#А в интервале [15, 15.5] вообще невероятные результаты"
   ]
  },
  {
   "cell_type": "code",
   "execution_count": 71,
   "metadata": {},
   "outputs": [
    {
     "name": "stdout",
     "output_type": "stream",
     "text": [
      "1.3630033452333579\n",
      "0.2893870073811591\n",
      "-0.28745171200358255\n"
     ]
    }
   ],
   "source": [
    "# Проверяем значения функции вблизи странных значений, которые выдает minimize\n",
    "x = 14\n",
    "print(f(x))\n",
    "x = 15.4\n",
    "print(f(x))\n",
    "x = 16\n",
    "print(f(x))\n"
   ]
  },
  {
   "cell_type": "code",
   "execution_count": 85,
   "metadata": {},
   "outputs": [
    {
     "data": {
      "text/plain": [
       "     fun: array([-11.89889467])\n",
       "     jac: array([0.])\n",
       " message: 'Optimization terminated successfully.'\n",
       "    nfev: 98\n",
       "     nit: 5\n",
       " success: True\n",
       "       x: array([25.88019282])"
      ]
     },
     "execution_count": 85,
     "metadata": {},
     "output_type": "execute_result"
    }
   ],
   "source": [
    "# Задача 2. Дифференциальная эволюция\n",
    "optimize.differential_evolution(f, [(1,31)])"
   ]
  },
  {
   "cell_type": "code",
   "execution_count": 136,
   "metadata": {},
   "outputs": [
    {
     "name": "stdout",
     "output_type": "stream",
     "text": [
      "[-11.89889467]\n",
      "-11.9\n"
     ]
    }
   ],
   "source": [
    "# Записываем 1 ответ 2 задачи по ДЗ в переменную\n",
    "ans_2_1 = optimize.differential_evolution(f, [(1,31)])\n",
    "print (ans_2_1.fun)\n",
    "answer_2_1 = np.round(ans_2_1.fun, 2)[0]\n",
    "print (answer_2_1)"
   ]
  },
  {
   "cell_type": "code",
   "execution_count": 137,
   "metadata": {},
   "outputs": [],
   "source": [
    "with open('C1W3_2_HW.txt', 'w') as file_obj:\n",
    "    file_obj.write(str(answer_2_1))"
   ]
  },
  {
   "cell_type": "markdown",
   "metadata": {},
   "source": [
    "## Задача 3"
   ]
  },
  {
   "cell_type": "code",
   "execution_count": 96,
   "metadata": {},
   "outputs": [],
   "source": [
    "# h(x) = int(f(x)). приведение типов для всех элементов numpy массива\n",
    "def h(x):\n",
    "    return f(x).astype(int)"
   ]
  },
  {
   "cell_type": "code",
   "execution_count": 98,
   "metadata": {},
   "outputs": [
    {
     "data": {
      "image/png": "[encoded data removed]",
      "text/plain": [
       "<Figure size 432x288 with 1 Axes>"
      ]
     },
     "metadata": {
      "needs_background": "light"
     },
     "output_type": "display_data"
    }
   ],
   "source": [
    "# СТроим график функции h(x)\n",
    "x = np.arange(1, 31, 0.1)\n",
    "plt.plot(x, h(x))\n",
    "plt.show()"
   ]
  },
  {
   "cell_type": "code",
   "execution_count": 99,
   "metadata": {},
   "outputs": [
    {
     "data": {
      "image/png": "[encoded data removed]",
      "text/plain": [
       "<Figure size 432x288 with 1 Axes>"
      ]
     },
     "metadata": {
      "needs_background": "light"
     },
     "output_type": "display_data"
    }
   ],
   "source": [
    "# СТроим график функции h(x)\n",
    "x = np.arange(1, 31, 1)\n",
    "plt.plot(x, h(x))\n",
    "plt.show()"
   ]
  },
  {
   "cell_type": "code",
   "execution_count": 143,
   "metadata": {},
   "outputs": [
    {
     "data": {
      "text/plain": [
       "      fun: array([-5])\n",
       " hess_inv: array([[1]])\n",
       "      jac: array([0.])\n",
       "  message: 'Optimization terminated successfully.'\n",
       "     nfev: 3\n",
       "      nit: 0\n",
       "     njev: 1\n",
       "   status: 0\n",
       "  success: True\n",
       "        x: array([30.])"
      ]
     },
     "execution_count": 143,
     "metadata": {},
     "output_type": "execute_result"
    }
   ],
   "source": [
    "# Находим минимум негладкой функции h(x)\n",
    "optimize.minimize(h, 30, method='BFGS') # Приближение X = 30. Метод BFGS"
   ]
  },
  {
   "cell_type": "code",
   "execution_count": 140,
   "metadata": {},
   "outputs": [
    {
     "name": "stdout",
     "output_type": "stream",
     "text": [
      "[-5]\n",
      "-5\n"
     ]
    }
   ],
   "source": [
    "# Записываем 1 ответ 3 задачи по ДЗ в переменную\n",
    "ans_3_1 = optimize.minimize(h, 30, method='BFGS')\n",
    "print (ans_3_1.fun)\n",
    "answer_3_1 = np.round(ans_3_1.fun, 2)[0]\n",
    "print (answer_3_1)"
   ]
  },
  {
   "cell_type": "code",
   "execution_count": 127,
   "metadata": {},
   "outputs": [
    {
     "data": {
      "text/plain": [
       "     fun: -11.0\n",
       " message: 'Optimization terminated successfully.'\n",
       "    nfev: 62\n",
       "     nit: 3\n",
       " success: True\n",
       "       x: array([25.18583814])"
      ]
     },
     "execution_count": 127,
     "metadata": {},
     "output_type": "execute_result"
    }
   ],
   "source": [
    "# Задача 3. Дифференциальная эволюция\n",
    "optimize.differential_evolution(h, [(1,31)])"
   ]
  },
  {
   "cell_type": "code",
   "execution_count": 141,
   "metadata": {},
   "outputs": [
    {
     "name": "stdout",
     "output_type": "stream",
     "text": [
      "-11.0\n",
      "-11.0\n"
     ]
    }
   ],
   "source": [
    "# Записываем 2 ответ 3 задачи по ДЗ в переменную\n",
    "ans_3_2 = optimize.differential_evolution(h, [(1,31)])\n",
    "print (ans_3_2.fun)\n",
    "answer_3_2 = round(ans_3_2.fun, 2)\n",
    "print (answer_3_2)"
   ]
  },
  {
   "cell_type": "code",
   "execution_count": 142,
   "metadata": {},
   "outputs": [],
   "source": [
    "with open('C1W3_3_HW.txt', 'w') as file_obj:\n",
    "    file_obj.write(str(answer_3_1)+' '+str(answer_3_2))"
   ]
  },
  {
   "cell_type": "code",
   "execution_count": null,
   "metadata": {},
   "outputs": [],
   "source": []
  }
 ],
 "metadata": {
  "kernelspec": {
   "display_name": "Python 3",
   "language": "python",
   "name": "python3"
  },
  "language_info": {
   "codemirror_mode": {
    "name": "ipython",
    "version": 3
   },
   "file_extension": ".py",
   "mimetype": "text/x-python",
   "name": "python",
   "nbconvert_exporter": "python",
   "pygments_lexer": "ipython3",
   "version": "3.7.4"
  }
 },
 "nbformat": 4,
 "nbformat_minor": 2
}
