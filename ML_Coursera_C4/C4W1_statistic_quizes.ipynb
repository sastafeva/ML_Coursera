{
 "cells": [
  {
   "cell_type": "markdown",
   "metadata": {},
   "source": [
    "## Задания 1 недели"
   ]
  },
  {
   "cell_type": "markdown",
   "metadata": {},
   "source": [
    "Для 61 большого города в Англии и Уэльсе известны средняя годовая смертность на 100000 населения (по данным 1958–1964) и концентрация кальция в питьевой воде (в частях на миллион). Чем выше концентрация кальция, тем жёстче вода. Города дополнительно поделены на северные и южные."
   ]
  },
  {
   "cell_type": "markdown",
   "metadata": {},
   "source": [
    "Постройте 95% доверительный интервал для средней годовой смертности в больших городах. Чему равна его нижняя граница? Округлите ответ до 4 знаков после десятичной точки. "
   ]
  },
  {
   "cell_type": "code",
   "execution_count": 1,
   "metadata": {},
   "outputs": [],
   "source": [
    "import pandas as pd"
   ]
  },
  {
   "cell_type": "code",
   "execution_count": 17,
   "metadata": {},
   "outputs": [],
   "source": [
    "from statsmodels.stats.weightstats import _tconfint_generic"
   ]
  },
  {
   "cell_type": "code",
   "execution_count": 13,
   "metadata": {},
   "outputs": [
    {
     "data": {
      "text/html": [
       "<div>\n",
       "<style scoped>\n",
       "    .dataframe tbody tr th:only-of-type {\n",
       "        vertical-align: middle;\n",
       "    }\n",
       "\n",
       "    .dataframe tbody tr th {\n",
       "        vertical-align: top;\n",
       "    }\n",
       "\n",
       "    .dataframe thead th {\n",
       "        text-align: right;\n",
       "    }\n",
       "</style>\n",
       "<table border=\"1\" class=\"dataframe\">\n",
       "  <thead>\n",
       "    <tr style=\"text-align: right;\">\n",
       "      <th></th>\n",
       "      <th>location</th>\n",
       "      <th>town</th>\n",
       "      <th>mortality</th>\n",
       "      <th>hardness</th>\n",
       "    </tr>\n",
       "  </thead>\n",
       "  <tbody>\n",
       "    <tr>\n",
       "      <td>0</td>\n",
       "      <td>South</td>\n",
       "      <td>Bath</td>\n",
       "      <td>1247</td>\n",
       "      <td>105</td>\n",
       "    </tr>\n",
       "    <tr>\n",
       "      <td>1</td>\n",
       "      <td>North</td>\n",
       "      <td>Birkenhead</td>\n",
       "      <td>1668</td>\n",
       "      <td>17</td>\n",
       "    </tr>\n",
       "    <tr>\n",
       "      <td>2</td>\n",
       "      <td>South</td>\n",
       "      <td>Birmingham</td>\n",
       "      <td>1466</td>\n",
       "      <td>5</td>\n",
       "    </tr>\n",
       "    <tr>\n",
       "      <td>3</td>\n",
       "      <td>North</td>\n",
       "      <td>Blackburn</td>\n",
       "      <td>1800</td>\n",
       "      <td>14</td>\n",
       "    </tr>\n",
       "    <tr>\n",
       "      <td>4</td>\n",
       "      <td>North</td>\n",
       "      <td>Blackpool</td>\n",
       "      <td>1609</td>\n",
       "      <td>18</td>\n",
       "    </tr>\n",
       "  </tbody>\n",
       "</table>\n",
       "</div>"
      ],
      "text/plain": [
       "  location        town  mortality  hardness\n",
       "0    South        Bath       1247       105\n",
       "1    North  Birkenhead       1668        17\n",
       "2    South  Birmingham       1466         5\n",
       "3    North   Blackburn       1800        14\n",
       "4    North   Blackpool       1609        18"
      ]
     },
     "execution_count": 13,
     "metadata": {},
     "output_type": "execute_result"
    }
   ],
   "source": [
    "data = pd.read_csv('c4_w1_tren_test_water.txt', sep=\"\\t\",  header=0)\n",
    "data.head()"
   ]
  },
  {
   "cell_type": "code",
   "execution_count": 14,
   "metadata": {},
   "outputs": [
    {
     "data": {
      "text/plain": [
       "(61, 4)"
      ]
     },
     "execution_count": 14,
     "metadata": {},
     "output_type": "execute_result"
    }
   ],
   "source": [
    "data.shape"
   ]
  },
  {
   "cell_type": "code",
   "execution_count": 15,
   "metadata": {},
   "outputs": [
    {
     "name": "stdout",
     "output_type": "stream",
     "text": [
      "<class 'pandas.core.frame.DataFrame'>\n",
      "RangeIndex: 61 entries, 0 to 60\n",
      "Data columns (total 4 columns):\n",
      "location     61 non-null object\n",
      "town         61 non-null object\n",
      "mortality    61 non-null int64\n",
      "hardness     61 non-null int64\n",
      "dtypes: int64(2), object(2)\n",
      "memory usage: 2.0+ KB\n"
     ]
    }
   ],
   "source": [
    "data.info()"
   ]
  },
  {
   "cell_type": "code",
   "execution_count": 16,
   "metadata": {},
   "outputs": [
    {
     "data": {
      "text/plain": [
       "Index(['location', 'town', 'mortality', 'hardness'], dtype='object')"
      ]
     },
     "execution_count": 16,
     "metadata": {},
     "output_type": "execute_result"
    }
   ],
   "source": [
    "data.columns"
   ]
  },
  {
   "cell_type": "markdown",
   "metadata": {},
   "source": [
    "Используем выборочные дисперсии, и построим доверительные интервалы вида\n",
    "$$\\bar{X}_n \\pm t_{1-\\frac{\\alpha}{2}} \\frac{S}{\\sqrt{n}}$$"
   ]
  },
  {
   "cell_type": "code",
   "execution_count": 37,
   "metadata": {},
   "outputs": [
    {
     "data": {
      "text/plain": [
       "24.028521714278174"
      ]
     },
     "execution_count": 37,
     "metadata": {},
     "output_type": "execute_result"
    }
   ],
   "source": [
    "# Посчитаем среднее и стандартное отклонение\n",
    "mean_mort = data.mortality.mean()\n",
    "std_mort = data.mortality.std(ddof=1)/(len(data))**0.5\n",
    "std_mort"
   ]
  },
  {
   "cell_type": "code",
   "execution_count": 39,
   "metadata": {},
   "outputs": [
    {
     "name": "stdout",
     "output_type": "stream",
     "text": [
      "95%% confidence interval (1476.0833413552848, 1572.2117406119285)\n"
     ]
    }
   ],
   "source": [
    "# Посчитаем 95% процентный доверительный интервал\n",
    "print(\"95%% confidence interval\", _tconfint_generic(mean_mort, std_mort, len(data) - 1, 0.05, 'two-sided'))"
   ]
  },
  {
   "cell_type": "markdown",
   "metadata": {},
   "source": [
    "На данных из предыдущего вопроса постройте 95% доверительный интервал для средней годовой смертности по всем южным городам. Чему равна его верхняя граница? Округлите ответ до 4 знаков после десятичной точки."
   ]
  },
  {
   "cell_type": "code",
   "execution_count": 46,
   "metadata": {},
   "outputs": [
    {
     "data": {
      "text/plain": [
       "27.509048538240833"
      ]
     },
     "execution_count": 46,
     "metadata": {},
     "output_type": "execute_result"
    }
   ],
   "source": [
    "# Посчитаем среднее и стандартное отклонение\n",
    "mean_mort_south = data[data['location'] == 'South'].mortality.mean()\n",
    "std_mort_south = data[data['location'] == 'South'].mortality.std(ddof=1)/(len(data[data.location == 'South']))**0.5\n",
    "std_mort_south"
   ]
  },
  {
   "cell_type": "code",
   "execution_count": 47,
   "metadata": {},
   "outputs": [
    {
     "name": "stdout",
     "output_type": "stream",
     "text": [
      "95%% confidence interval (1320.1517462936238, 1433.463638321761)\n"
     ]
    }
   ],
   "source": [
    "# Посчитаем 95% процентный доверительный интервал\n",
    "print(\"95%% confidence interval\", _tconfint_generic(mean_mort_south, std_mort_south, \n",
    "                                                    len(data[data.location == 'South']) - 1, 0.05, 'two-sided'))"
   ]
  },
  {
   "cell_type": "markdown",
   "metadata": {},
   "source": [
    "На тех же данных постройте 95% доверительный интервал для средней годовой смертности по всем северным городам. Пересекается ли этот интервал с предыдущим? Как вы думаете, какой из этого можно сделать вывод? "
   ]
  },
  {
   "cell_type": "code",
   "execution_count": 48,
   "metadata": {},
   "outputs": [
    {
     "data": {
      "text/plain": [
       "23.146562624816188"
      ]
     },
     "execution_count": 48,
     "metadata": {},
     "output_type": "execute_result"
    }
   ],
   "source": [
    "# Посчитаем среднее и стандартное отклонение\n",
    "mean_mort_north = data[data['location'] == 'North'].mortality.mean()\n",
    "std_mort_north = data[data['location'] == 'North'].mortality.std(ddof=1)/(len(data[data.location == 'North']))**0.5\n",
    "std_mort_north"
   ]
  },
  {
   "cell_type": "code",
   "execution_count": 49,
   "metadata": {},
   "outputs": [
    {
     "name": "stdout",
     "output_type": "stream",
     "text": [
      "95%% confidence interval (1586.5605251961385, 1680.6394748038613)\n"
     ]
    }
   ],
   "source": [
    "# Посчитаем 95% процентный доверительный интервал\n",
    "print(\"95%% confidence interval\", _tconfint_generic(mean_mort_north, std_mort_north, \n",
    "                                                    len(data[data.location == 'North']) - 1, 0.05, 'two-sided'))"
   ]
  },
  {
   "cell_type": "markdown",
   "metadata": {},
   "source": [
    "Пересекаются ли 95% доверительные интервалы для средней жёсткости воды в северных и южных городах?"
   ]
  },
  {
   "cell_type": "code",
   "execution_count": 50,
   "metadata": {},
   "outputs": [],
   "source": [
    "# Посчитаем среднее и стандартное отклонение для воды для севера и юга\n",
    "mean_hard_south = data[data['location'] == 'South'].hardness.mean()\n",
    "std_hard_south = data[data['location'] == 'South'].hardness.std(ddof=1)/(len(data[data.location == 'South']))**0.5\n",
    "mean_hard_north = data[data['location'] == 'North'].hardness.mean()\n",
    "std_hard_north = data[data['location'] == 'North'].hardness.std(ddof=1)/(len(data[data.location == 'North']))**0.5"
   ]
  },
  {
   "cell_type": "code",
   "execution_count": 51,
   "metadata": {},
   "outputs": [
    {
     "name": "stdout",
     "output_type": "stream",
     "text": [
      "95%% confidence interval for South (53.467198692036106, 86.07126284642544)\n",
      "95%% confidence interval for North (21.42248728572426, 39.37751271427574)\n"
     ]
    }
   ],
   "source": [
    "# Посчитаем 95% процентные доверительные интервалы\n",
    "print(\"95%% confidence interval for South\", _tconfint_generic(mean_hard_south, std_hard_south, \n",
    "                                                    len(data[data.location == 'South']) - 1, 0.05, 'two-sided'))\n",
    "print(\"95%% confidence interval for North\", _tconfint_generic(mean_hard_north, std_hard_north, \n",
    "                                                    len(data[data.location == 'North']) - 1, 0.05, 'two-sided'))"
   ]
  },
  {
   "cell_type": "markdown",
   "metadata": {},
   "source": [
    "При $\\sigma$=1 какой нужен объём выборки, чтобы на уровне доверия 95% оценить среднее с точностью $\\pm$ 0.1?"
   ]
  },
  {
   "cell_type": "code",
   "execution_count": 52,
   "metadata": {},
   "outputs": [
    {
     "data": {
      "text/plain": [
       "384.14432015999995"
      ]
     },
     "execution_count": 52,
     "metadata": {},
     "output_type": "execute_result"
    }
   ],
   "source": [
    "(1.95996/0.1)**2"
   ]
  },
  {
   "cell_type": "code",
   "execution_count": 56,
   "metadata": {},
   "outputs": [
    {
     "data": {
      "text/plain": [
       "0.09988881093300886"
      ]
     },
     "execution_count": 56,
     "metadata": {},
     "output_type": "execute_result"
    }
   ],
   "source": [
    "1.95996/(385)**0.5"
   ]
  },
  {
   "cell_type": "markdown",
   "metadata": {},
   "source": [
    "Большая часть млекопитающих неспособны во взрослом возрасте переваривать лактозу, содержащуюся в молоке. У людей за расщепление лактозы отвечает фермент лактаза, кодируемый геном LCT. У людей с вариантом 13910T этого гена лактаза продолжает функционировать на протяжении всей жизни. Распределение этого варианта гена сильно варьируется в различных генетических популяциях.\n",
    "\n",
    "Из 50 исследованных представителей народа майя вариант 13910T был обнаружен у одного. Постройте нормальный 95% доверительный интервал для доли носителей варианта 13910T в популяции майя. Чему равна его нижняя граница? Округлите ответ до 4 знаков после десятичной точки."
   ]
  },
  {
   "cell_type": "code",
   "execution_count": 57,
   "metadata": {},
   "outputs": [],
   "source": [
    "n = 50\n",
    "gen = 1\n"
   ]
  },
  {
   "cell_type": "code",
   "execution_count": 58,
   "metadata": {},
   "outputs": [],
   "source": [
    "from statsmodels.stats.proportion import proportion_confint"
   ]
  },
  {
   "cell_type": "code",
   "execution_count": 59,
   "metadata": {},
   "outputs": [],
   "source": [
    "normal_interval = proportion_confint(gen, n, method = 'normal', alpha = 0.05)"
   ]
  },
  {
   "cell_type": "code",
   "execution_count": 60,
   "metadata": {},
   "outputs": [
    {
     "data": {
      "text/plain": [
       "(0.0, 0.05880530708179099)"
      ]
     },
     "execution_count": 60,
     "metadata": {},
     "output_type": "execute_result"
    }
   ],
   "source": [
    "normal_interval"
   ]
  },
  {
   "cell_type": "code",
   "execution_count": 61,
   "metadata": {},
   "outputs": [
    {
     "name": "stdout",
     "output_type": "stream",
     "text": [
      "normal_interval [0.000000, 0.058805] with width 0.058805\n"
     ]
    }
   ],
   "source": [
    "print('normal_interval [%f, %f] with width %f' % (normal_interval[0],\n",
    "                                                  normal_interval[1], \n",
    "                                                  normal_interval[1] - normal_interval[0]))"
   ]
  },
  {
   "cell_type": "markdown",
   "metadata": {},
   "source": [
    "__комментарий:__\n",
    "По какой-то необъяснимой причине левая граница интервала обнулена. Посчитаем вручную"
   ]
  },
  {
   "cell_type": "code",
   "execution_count": 69,
   "metadata": {},
   "outputs": [
    {
     "data": {
      "text/plain": [
       "-0.018805307081790987"
      ]
     },
     "execution_count": 69,
     "metadata": {},
     "output_type": "execute_result"
    }
   ],
   "source": [
    "right_side = normal_interval[1]\n",
    "center = gen/n\n",
    "left_side = gen/n - (right_side - gen/n)\n",
    "left_side"
   ]
  },
  {
   "cell_type": "markdown",
   "metadata": {},
   "source": [
    "В условиях предыдущей задачи постройте 95% доверительный интервал Уилсона для доли носителей варианта 13910T в популяции майя. Чему равна его нижняя граница? Округлите ответ до 4 знаков после десятичной точки."
   ]
  },
  {
   "cell_type": "code",
   "execution_count": 62,
   "metadata": {},
   "outputs": [
    {
     "name": "stdout",
     "output_type": "stream",
     "text": [
      "wilson_interval [0.003539, 0.104954] with width 0.101415\n"
     ]
    }
   ],
   "source": [
    "wilson_interval = proportion_confint(gen, n, method = 'wilson',  alpha = 0.05)\n",
    "print('wilson_interval [%f, %f] with width %f' % (wilson_interval[0],\n",
    "                                                  wilson_interval[1],\n",
    "                                                  wilson_interval[1] - wilson_interval[0]))"
   ]
  },
  {
   "cell_type": "markdown",
   "metadata": {},
   "source": [
    "Пусть в популяции майя действительно 2% носителей варианта 13910T, как в выборке, которую мы исследовали. Какой объём выборки нужен, чтобы с помощью нормального интервала оценить долю носителей гена 13910T с точностью $\\pm0.01$ на уровне доверия 95%?"
   ]
  },
  {
   "cell_type": "code",
   "execution_count": 63,
   "metadata": {},
   "outputs": [],
   "source": [
    "from statsmodels.stats.proportion import samplesize_confint_proportion"
   ]
  },
  {
   "cell_type": "code",
   "execution_count": 64,
   "metadata": {},
   "outputs": [
    {
     "data": {
      "text/plain": [
       "752.9259288560489"
      ]
     },
     "execution_count": 64,
     "metadata": {},
     "output_type": "execute_result"
    }
   ],
   "source": [
    "n_samples = samplesize_confint_proportion(gen/n, 0.01, alpha = 0.05)\n",
    "n_samples"
   ]
  },
  {
   "cell_type": "code",
   "execution_count": 65,
   "metadata": {},
   "outputs": [
    {
     "data": {
      "text/plain": [
       "753"
      ]
     },
     "execution_count": 65,
     "metadata": {},
     "output_type": "execute_result"
    }
   ],
   "source": [
    "import numpy as np\n",
    "n_samples = int(np.ceil(n_samples))\n",
    "n_samples"
   ]
  },
  {
   "cell_type": "markdown",
   "metadata": {},
   "source": [
    "Постройте график зависимости объёма выборки, необходимого для оценки для доли носителей гена 13910T с точностью $\\pm0.01$ на уровне доверия 95%, от неизвестного параметра $p$. Посмотрите, при каком значении $p$ нужно больше всего испытуемых. Как вы думаете, насколько вероятно, что выборка, которую мы анализируем, взята из случайной величины с этим значением параметра?\n",
    "\n",
    "Как бы вы не ответили на последний вопрос, рассмотреть объём выборки, необходимый при таком $p$, всё равно полезно — это даёт максимально пессимистичную оценку необходимого объёма выборки.\n",
    "\n",
    "Какой объём выборки нужен в худшем случае, чтобы с помощью нормального интервала оценить долю носителей гена 13910T с точностью $\\pm0.01$ на уровне доверия 95%?"
   ]
  },
  {
   "cell_type": "code",
   "execution_count": 66,
   "metadata": {},
   "outputs": [
    {
     "name": "stdout",
     "output_type": "stream",
     "text": [
      "Populating the interactive namespace from numpy and matplotlib\n"
     ]
    }
   ],
   "source": [
    "%pylab inline"
   ]
  },
  {
   "cell_type": "code",
   "execution_count": 67,
   "metadata": {},
   "outputs": [
    {
     "data": {
      "text/plain": [
       "[<matplotlib.lines.Line2D at 0x1c27e656bc8>]"
      ]
     },
     "execution_count": 67,
     "metadata": {},
     "output_type": "execute_result"
    },
    {
     "data": {
      "image/png": "[encoded data removed]",
      "text/plain": [
       "<Figure size 1080x432 with 1 Axes>"
      ]
     },
     "metadata": {
      "needs_background": "light"
     },
     "output_type": "display_data"
    }
   ],
   "source": [
    "p = np.linspace(0, 1, num=50, endpoint=True)\n",
    "\n",
    "figure(figsize(15, 6))\n",
    "plot(p, samplesize_confint_proportion(p, 0.01, alpha = 0.05))\n",
    "scatter()"
   ]
  },
  {
   "cell_type": "code",
   "execution_count": 78,
   "metadata": {},
   "outputs": [
    {
     "data": {
      "text/plain": [
       "      fun: -9603.647051735317\n",
       " hess_inv: array([[8.55727922e-06]])\n",
       "      jac: array([0.00048828])\n",
       "  message: 'Desired error not necessarily achieved due to precision loss.'\n",
       "     nfev: 16\n",
       "      nit: 2\n",
       "     njev: 5\n",
       "   status: 2\n",
       "  success: False\n",
       "        x: array([0.5])"
      ]
     },
     "execution_count": 78,
     "metadata": {},
     "output_type": "execute_result"
    }
   ],
   "source": [
    "from scipy.optimize import minimize\n",
    "\n",
    "def f(p):\n",
    "    return -samplesize_confint_proportion(p, 0.01, alpha = 0.05)\n",
    "\n",
    "res = minimize(f, 0)\n",
    "res"
   ]
  },
  {
   "cell_type": "code",
   "execution_count": 79,
   "metadata": {},
   "outputs": [
    {
     "data": {
      "text/plain": [
       "9604"
      ]
     },
     "execution_count": 79,
     "metadata": {},
     "output_type": "execute_result"
    }
   ],
   "source": [
    "# Или можно так (если знаешь точку максимума для вероятности доли)\n",
    "from math import ceil\n",
    "ceil(samplesize_confint_proportion(0.5, 0.01, method='normal'))"
   ]
  },
  {
   "cell_type": "markdown",
   "metadata": {},
   "source": [
    "Давайте уточним правило трёх сигм. Утверждение: 99.7% вероятностной массы случайной величины $X\\sim N\\left(\\mu,\\sigma^2\\right)$ лежит в интервале $\\mu\\pm c \\cdot \\sigma$. Чему равно точное значение константы $c$? Округлите ответ до четырёх знаков после десятичной точки. "
   ]
  },
  {
   "cell_type": "code",
   "execution_count": 86,
   "metadata": {},
   "outputs": [
    {
     "data": {
      "text/plain": [
       "1.959963984540054"
      ]
     },
     "execution_count": 86,
     "metadata": {},
     "output_type": "execute_result"
    }
   ],
   "source": [
    "from scipy.stats import norm\n",
    "\n",
    "# Правило 2-х сигм уточняется следующим образом. \n",
    "# Нужно взять Percent Point Function из scipy.stats.norm и посчитать для 0.975 (1-альфа/2)\n",
    "# Или для 0.025, но со знаком минус. Округляем вверх и получаем 2 сигмы.\n",
    "\n",
    "norm.ppf(0.975)"
   ]
  },
  {
   "cell_type": "code",
   "execution_count": 90,
   "metadata": {},
   "outputs": [
    {
     "data": {
      "text/plain": [
       "2.9677379253417944"
      ]
     },
     "execution_count": 90,
     "metadata": {},
     "output_type": "execute_result"
    }
   ],
   "source": [
    "# Соответвественно правило трех сигм уточняется следующим образом\n",
    "alpha = 0.003\n",
    "z = 1 - alpha / 2\n",
    "norm.ppf(z)"
   ]
  },
  {
   "cell_type": "markdown",
   "metadata": {},
   "source": [
    "В пятилетнем рандомизированном исследовании Гарвардской медицинской школы 11037 испытуемых через день принимали аспирин, а ещё 11034 — плацебо. Исследование было слепым, то есть, испытуемые не знали, что именно они принимают.\n",
    "\n",
    "За 5 лет инфаркт случился у 104 испытуемых, принимавших аспирин, и у 189 принимавших плацебо. \n",
    "\n",
    "Оцените, насколько вероятность инфаркта снижается при приёме аспирина. Округлите ответ до четырёх знаков после десятичной точки."
   ]
  },
  {
   "cell_type": "code",
   "execution_count": 91,
   "metadata": {},
   "outputs": [
    {
     "data": {
      "text/plain": [
       "0.0077060239760047815"
      ]
     },
     "execution_count": 91,
     "metadata": {},
     "output_type": "execute_result"
    }
   ],
   "source": [
    "p_asp = 104/11037\n",
    "p_plac = 189/11034\n",
    "p_plac - p_asp"
   ]
  },
  {
   "cell_type": "markdown",
   "metadata": {},
   "source": [
    "Постройте теперь 95% доверительный интервал для снижения вероятности инфаркта при приёме аспирина. Чему равна его верхняя граница? Округлите ответ до четырёх знаков после десятичной точки. "
   ]
  },
  {
   "cell_type": "markdown",
   "metadata": {},
   "source": [
    "$$\\text{Доверительный интервал для }p_1 - p_2\\colon \\;\\; \\hat{p}_1 - \\hat{p}_2 \\pm z_{1-\\frac{\\alpha}{2}}\\sqrt{\\frac{\\hat{p}_1(1 - \\hat{p}_1)}{n_1} + \\frac{\\hat{p}_2(1 - \\hat{p}_2)}{n_2}}$$"
   ]
  },
  {
   "cell_type": "code",
   "execution_count": 93,
   "metadata": {},
   "outputs": [
    {
     "name": "stdout",
     "output_type": "stream",
     "text": [
      "0.004687750675049439 0.010724297276960124\n"
     ]
    }
   ],
   "source": [
    "alpha = 0.05\n",
    "z = norm.ppf(1 - alpha / 2)\n",
    "left_boundary = (p_plac - p_asp) - z * np.sqrt(p_plac * (1 - p_plac)/ 11034 + p_asp * (1 - p_asp)/ 11037)\n",
    "right_boundary = (p_plac - p_asp) + z * np.sqrt(p_plac * (1 - p_plac)/ 11034 + p_asp * (1 - p_asp)/ 11037)\n",
    "                                               \n",
    "print(left_boundary, right_boundary)"
   ]
  },
  {
   "cell_type": "markdown",
   "metadata": {},
   "source": [
    "Продолжим анализировать данные эксперимента Гарвардской медицинской школы. \n",
    "\n",
    "Для бернуллиевских случайных величин $X\\sim Ber(p)$ часто вычисляют величину $\\frac{p}{1-p}$, которая называется шансами (odds). Чтобы оценить шансы по выборке, вместо $p$ нужно подставить $\\hat{p}$. Например, шансы инфаркта в контрольной группе, принимавшей плацебо, можно оценить как \n",
    "\n",
    "$\\frac{\\frac{189}{11034}}{1-\\frac{189}{11034}} = \\frac{189}{11034-189}\\approx 0.0174$ \n",
    "\n",
    "Оцените, во сколько раз понижаются шансы инфаркта при регулярном приёме аспирина. Округлите ответ до четырёх знаков после десятичной точки."
   ]
  },
  {
   "cell_type": "code",
   "execution_count": 95,
   "metadata": {},
   "outputs": [
    {
     "data": {
      "text/plain": [
       "1.8320539419087138"
      ]
     },
     "execution_count": 95,
     "metadata": {},
     "output_type": "execute_result"
    }
   ],
   "source": [
    "def odds(infarct, samples):\n",
    "    p = infarct / samples\n",
    "    return p / (1-p)\n",
    "\n",
    "plac_oods = odds(189, 11034)\n",
    "asp_oods = odds(104, 11037)\n",
    "\n",
    "plac_oods / asp_oods"
   ]
  },
  {
   "cell_type": "markdown",
   "metadata": {},
   "source": [
    "Величина, которую вы оценили в предыдущем вопросе, называется отношением шансов. Постройте для отношения шансов 95% доверительный интервал с помощью бутстрепа. Чему равна его нижняя граница? Округлите ответ до 4 знаков после десятичной точки.\n",
    "\n",
    "Чтобы получить в точности такой же доверительный интервал, как у нас:\n",
    "\n",
    "составьте векторы исходов в контрольной и тестовой выборках так, чтобы в начале шли все единицы, а потом все нули;\n",
    "установите random seed=0;\n",
    "сделайте по 1000 псевдовыборок из каждой группы пациентов с помощью функции get_bootstrap_samples."
   ]
  },
  {
   "cell_type": "code",
   "execution_count": 103,
   "metadata": {},
   "outputs": [],
   "source": [
    "# функции из урока\n",
    "def get_bootstrap_samples(data, n_samples):\n",
    "    indices = np.random.randint(0, len(data), (n_samples, len(data)))\n",
    "    samples = data[indices]\n",
    "    return samples\n",
    "\n",
    "def stat_intervals(stat, alpha):\n",
    "    boundaries = np.percentile(stat, [100 * alpha / 2., 100 * (1 - alpha / 2.)])\n",
    "    return boundaries"
   ]
  },
  {
   "cell_type": "code",
   "execution_count": 111,
   "metadata": {},
   "outputs": [],
   "source": [
    "asp_sample = np.array([1]*104 + [0]*(11037-104))\n",
    "plac_sample = np.array([1]*189 + [0]*(11034-189))"
   ]
  },
  {
   "cell_type": "code",
   "execution_count": 115,
   "metadata": {},
   "outputs": [],
   "source": [
    "np.random.seed(0)\n",
    "asp_median_scores = np.array(map(np.median, get_bootstrap_samples(asp_sample, 1000)))\n",
    "plac_median_scores = list(map(np.median, get_bootstrap_samples(plac_sample, 1000)))"
   ]
  },
  {
   "cell_type": "code",
   "execution_count": 118,
   "metadata": {},
   "outputs": [],
   "source": [
    "np.random.seed(0)\n",
    "asp_bootstrap_samples = get_bootstrap_samples(asp_sample, 1000)\n",
    "plac_bootstrap_samples = get_bootstrap_samples(plac_sample, 1000)"
   ]
  },
  {
   "cell_type": "code",
   "execution_count": 131,
   "metadata": {},
   "outputs": [],
   "source": [
    "asp_chanses = np.array(list(map(lambda x: odds(sum(x), len(x)), asp_bootstrap_samples)))\n",
    "plac_chanses = np.array(list(map(lambda x: odds(sum(x), len(x)), plac_bootstrap_samples)))"
   ]
  },
  {
   "cell_type": "code",
   "execution_count": 133,
   "metadata": {},
   "outputs": [],
   "source": [
    "odds_ratio = plac_chanses / asp_chanses"
   ]
  },
  {
   "cell_type": "code",
   "execution_count": 135,
   "metadata": {},
   "outputs": [
    {
     "name": "stdout",
     "output_type": "stream",
     "text": [
      "95% интервал для отношения шансов: [1.44419465 2.34321168]\n"
     ]
    }
   ],
   "source": [
    "print(\"95% интервал для отношения шансов:\",  stat_intervals(odds_ratio, 0.05))"
   ]
  },
  {
   "cell_type": "markdown",
   "metadata": {},
   "source": [
    "По данным опроса, 75% работников ресторанов утверждают, что испытывают на работе существенный стресс, оказывающий негативное влияние на их личную жизнь. Крупная ресторанная сеть опрашивает 100 своих работников, чтобы выяснить, отличается ли уровень стресса работников в их ресторанах от среднего. 67 из 100 работников отметили высокий уровень стресса. \n",
    "\n",
    "Посчитайте достигаемый уровень значимости, округлите ответ до четырёх знаков после десятичной точки."
   ]
  },
  {
   "cell_type": "code",
   "execution_count": 140,
   "metadata": {},
   "outputs": [
    {
     "data": {
      "text/plain": [
       "0.08222258891386608"
      ]
     },
     "execution_count": 140,
     "metadata": {},
     "output_type": "execute_result"
    }
   ],
   "source": [
    "# выборка Xn: 75% испытывают стресс\n",
    "# H0: уровень стресса работников ресторана не отличается от средних показателей.\n",
    "# статистика: 67 из 100 истывают стресс (1 - испытывают, 0 - не испытывают)\n",
    "# H1: уровень стресса работников ресторана отличается от средних показателей (Т.е. в любую сторону, а значит two-sided)\n",
    "\n",
    "from scipy import stats\n",
    "\n",
    "stats.binom_test(67, 100, 0.75, alternative = 'two-sided')"
   ]
  },
  {
   "cell_type": "markdown",
   "metadata": {},
   "source": [
    "Представим теперь, что в другой ресторанной сети только 22 из 50 работников испытывают существенный стресс. Гипотеза о том, что 22/50 соответствует 75% по всей популяции, методом, который вы использовали в предыдущей задаче, отвергается. Чем это может объясняться? Выберите все возможные варианты."
   ]
  },
  {
   "cell_type": "code",
   "execution_count": 143,
   "metadata": {},
   "outputs": [
    {
     "data": {
      "text/plain": [
       "3.4831478978300243e-06"
      ]
     },
     "execution_count": 143,
     "metadata": {},
     "output_type": "execute_result"
    }
   ],
   "source": [
    "stats.binom_test(22, 50, 0.75, alternative = 'two-sided')"
   ]
  },
  {
   "cell_type": "raw",
   "metadata": {},
   "source": [
    "Условия работы в этой сети лучше, чем в среднем \n",
    "Сотрудники чрезмерно оптимистично отвечали на вопрос, потому что опрос не был анонимным"
   ]
  },
  {
   "cell_type": "markdown",
   "metadata": {},
   "source": [
    "The Wage Tract — заповедник в округе Тома, Джорджия, США, деревья в котором не затронуты деятельностью человека со времён первых поселенцев. Для участка заповедника размером 200х200 м имеется информация о координатах сосен (sn — координата в направлении север-юг, we — в направлении запад-восток, обе от 0 до 200).\n",
    "\n",
    "Проверим, можно ли пространственное распределение сосен считать равномерным, или они растут кластерами.\n",
    "\n",
    "Загрузите данные, поделите участок на 5х5 одинаковых квадратов размера 40x40 м, посчитайте количество сосен в каждом квадрате (чтобы получить такой же результат, как у нас, используйте функцию scipy.stats.binned_statistic_2d).\n",
    "\n",
    "Если сосны действительно растут равномерно, какое среднее ожидаемое количество сосен в каждом квадрате? В правильном ответе два знака после десятичной точки."
   ]
  },
  {
   "cell_type": "code",
   "execution_count": 146,
   "metadata": {},
   "outputs": [
    {
     "data": {
      "text/html": [
       "<div>\n",
       "<style scoped>\n",
       "    .dataframe tbody tr th:only-of-type {\n",
       "        vertical-align: middle;\n",
       "    }\n",
       "\n",
       "    .dataframe tbody tr th {\n",
       "        vertical-align: top;\n",
       "    }\n",
       "\n",
       "    .dataframe thead th {\n",
       "        text-align: right;\n",
       "    }\n",
       "</style>\n",
       "<table border=\"1\" class=\"dataframe\">\n",
       "  <thead>\n",
       "    <tr style=\"text-align: right;\">\n",
       "      <th></th>\n",
       "      <th>sn</th>\n",
       "      <th>we</th>\n",
       "    </tr>\n",
       "  </thead>\n",
       "  <tbody>\n",
       "    <tr>\n",
       "      <td>0</td>\n",
       "      <td>200.0</td>\n",
       "      <td>8.8</td>\n",
       "    </tr>\n",
       "    <tr>\n",
       "      <td>1</td>\n",
       "      <td>199.3</td>\n",
       "      <td>10.0</td>\n",
       "    </tr>\n",
       "    <tr>\n",
       "      <td>2</td>\n",
       "      <td>193.6</td>\n",
       "      <td>22.4</td>\n",
       "    </tr>\n",
       "    <tr>\n",
       "      <td>3</td>\n",
       "      <td>167.7</td>\n",
       "      <td>35.6</td>\n",
       "    </tr>\n",
       "    <tr>\n",
       "      <td>4</td>\n",
       "      <td>183.9</td>\n",
       "      <td>45.4</td>\n",
       "    </tr>\n",
       "  </tbody>\n",
       "</table>\n",
       "</div>"
      ],
      "text/plain": [
       "      sn    we\n",
       "0  200.0   8.8\n",
       "1  199.3  10.0\n",
       "2  193.6  22.4\n",
       "3  167.7  35.6\n",
       "4  183.9  45.4"
      ]
     },
     "execution_count": 146,
     "metadata": {},
     "output_type": "execute_result"
    }
   ],
   "source": [
    "data = pd.read_csv('pines.txt', header = 0, sep = '\\t')\n",
    "data.head()"
   ]
  },
  {
   "cell_type": "code",
   "execution_count": 155,
   "metadata": {},
   "outputs": [
    {
     "name": "stdout",
     "output_type": "stream",
     "text": [
      "<class 'pandas.core.frame.DataFrame'>\n",
      "RangeIndex: 584 entries, 0 to 583\n",
      "Data columns (total 2 columns):\n",
      "sn    584 non-null float64\n",
      "we    584 non-null float64\n",
      "dtypes: float64(2)\n",
      "memory usage: 9.2 KB\n"
     ]
    }
   ],
   "source": [
    "data.info()"
   ]
  },
  {
   "cell_type": "code",
   "execution_count": 149,
   "metadata": {},
   "outputs": [
    {
     "name": "stdout",
     "output_type": "stream",
     "text": [
      "Populating the interactive namespace from numpy and matplotlib\n"
     ]
    },
    {
     "name": "stderr",
     "output_type": "stream",
     "text": [
      "C:\\Users\\Svetlana\\Anaconda3\\lib\\site-packages\\IPython\\core\\magics\\pylab.py:160: UserWarning: pylab import has clobbered these variables: ['ceil', 'f', 'norm']\n",
      "`%matplotlib` prevents importing * from pylab and numpy\n",
      "  \"\\n`%matplotlib` prevents importing * from pylab and numpy\"\n"
     ]
    }
   ],
   "source": [
    "%pylab inline"
   ]
  },
  {
   "cell_type": "code",
   "execution_count": 158,
   "metadata": {},
   "outputs": [
    {
     "data": {
      "text/plain": [
       "<matplotlib.axes._subplots.AxesSubplot at 0x1c20a8fb508>"
      ]
     },
     "execution_count": 158,
     "metadata": {},
     "output_type": "execute_result"
    },
    {
     "data": {
      "image/png": "[encoded data removed]",
      "text/plain": [
       "<Figure size 432x288 with 1 Axes>"
      ]
     },
     "metadata": {
      "needs_background": "light"
     },
     "output_type": "display_data"
    }
   ],
   "source": [
    "# Посмотрим, как группируются деревья. \n",
    "data.plot.scatter('sn', 'we')"
   ]
  },
  {
   "cell_type": "raw",
   "metadata": {},
   "source": [
    "binned_statistic_2d - очень полезная функция. Она позволяет посчитать в каждом бинсе количество, среднее, найти максимумы и минимумы. Еще есть параметр values, который мы сейчас задаем как None, на котором тоже можно можно посчитать статистики. Но я с ним не разобралась."
   ]
  },
  {
   "cell_type": "code",
   "execution_count": 159,
   "metadata": {},
   "outputs": [
    {
     "data": {
      "text/plain": [
       "array([[18., 26., 29., 25., 20.],\n",
       "       [14., 12., 22., 34., 25.],\n",
       "       [12., 24., 15., 50., 37.],\n",
       "       [ 8., 19., 31., 50.,  7.],\n",
       "       [ 7.,  8., 37., 27., 27.]])"
      ]
     },
     "execution_count": 159,
     "metadata": {},
     "output_type": "execute_result"
    }
   ],
   "source": [
    "# Посчитаем количество деревьев в каждом секторе\n",
    "from scipy.stats import binned_statistic_2d\n",
    "\n",
    "trees_count = stats.binned_statistic_2d(data.sn, data.we, None, 'count', bins=[5, 5])\n",
    "trees_count.statistic"
   ]
  },
  {
   "cell_type": "code",
   "execution_count": 165,
   "metadata": {},
   "outputs": [
    {
     "data": {
      "text/plain": [
       "(5, 5)"
      ]
     },
     "execution_count": 165,
     "metadata": {},
     "output_type": "execute_result"
    }
   ],
   "source": [
    "trees_count.statistic.shape"
   ]
  },
  {
   "cell_type": "code",
   "execution_count": 166,
   "metadata": {},
   "outputs": [
    {
     "data": {
      "text/plain": [
       "<BarContainer object of 25 artists>"
      ]
     },
     "execution_count": 166,
     "metadata": {},
     "output_type": "execute_result"
    },
    {
     "data": {
      "image/png": "[encoded data removed]",
      "text/plain": [
       "<Figure size 432x288 with 1 Axes>"
      ]
     },
     "metadata": {
      "needs_background": "light"
     },
     "output_type": "display_data"
    }
   ],
   "source": [
    "# Посмотрим на гистограмму\n",
    "pylab.bar(range(25), np.ravel(trees_count.statistic), color = 'b')"
   ]
  },
  {
   "cell_type": "markdown",
   "metadata": {},
   "source": [
    "__Визуально ни по scatter-plot, ни по гистограмме не видно, чтобы сосны росли равномерно__"
   ]
  },
  {
   "cell_type": "code",
   "execution_count": 167,
   "metadata": {},
   "outputs": [
    {
     "data": {
      "text/plain": [
       "23.36"
      ]
     },
     "execution_count": 167,
     "metadata": {},
     "output_type": "execute_result"
    }
   ],
   "source": [
    "# Если сосны действительно растут равномерно, какое среднее ожидаемое количество сосен в каждом квадрате? \n",
    "# В правильном ответе два знака после десятичной точки.\n",
    "\n",
    "# По-моему как раз сосны растут неравномерно. \n",
    "# А для того, чтобы среднее посчитать надо просто разделить количество сосен на количество квадратов.\n",
    "# Не ясно, зачем было строить все эти графики.\n",
    "len(data) / 25"
   ]
  },
  {
   "cell_type": "markdown",
   "metadata": {},
   "source": [
    "Чтобы сравнить распределение сосен с равномерным, посчитайте значение статистики хи-квадрат для полученных 5х5 квадратов. Округлите ответ до двух знаков после десятичной точки."
   ]
  },
  {
   "cell_type": "code",
   "execution_count": 170,
   "metadata": {},
   "outputs": [
    {
     "data": {
      "text/plain": [
       "Power_divergenceResult(statistic=150.58904109589042, pvalue=9.87806178820889e-21)"
      ]
     },
     "execution_count": 170,
     "metadata": {},
     "output_type": "execute_result"
    }
   ],
   "source": [
    "# Ага)) значит, не зря считали статистику по квадратам))\n",
    "from scipy.stats import chisquare\n",
    "\n",
    "mean_count_trees = [len(data) / 25 for i in range(25)]\n",
    "real_count_trees = np.ravel(trees_count.statistic)\n",
    "\n",
    "chisquare(real_count_trees, mean_count_trees, ddof = 1)"
   ]
  },
  {
   "cell_type": "raw",
   "metadata": {},
   "source": [
    "На самом деле, можно было не задавать mean_count_trees, потому что по умолчанию в chisquare ожидаемые частосты равновероятны."
   ]
  },
  {
   "cell_type": "code",
   "execution_count": 172,
   "metadata": {},
   "outputs": [
    {
     "data": {
      "text/plain": [
       "150.58904109589042"
      ]
     },
     "execution_count": 172,
     "metadata": {},
     "output_type": "execute_result"
    }
   ],
   "source": [
    "statistic = chisquare(real_count_trees, mean_count_trees, ddof = 1).statistic\n",
    "statistic"
   ]
  },
  {
   "cell_type": "raw",
   "metadata": {},
   "source": [
    "И судя по следующему условию, число степеней свободы надо брать 25, а не 24. Хотя я пока не разобралась почему."
   ]
  },
  {
   "cell_type": "code",
   "execution_count": 182,
   "metadata": {},
   "outputs": [
    {
     "data": {
      "text/plain": [
       "Power_divergenceResult(statistic=150.58904109589042, pvalue=2.574669774967279e-20)"
      ]
     },
     "execution_count": 182,
     "metadata": {},
     "output_type": "execute_result"
    }
   ],
   "source": [
    "chisquare(real_count_trees, ddof = 0)"
   ]
  },
  {
   "cell_type": "markdown",
   "metadata": {},
   "source": [
    "Насколько велико это значение? Если нулевая гипотеза справедлива, с какой вероятностью его можно было получить случайно? \n",
    "\n",
    "Нулевое распределение статистики — хи-квадрат с $25-1=24$ степенями свободы (поскольку у равномерного распределения, с которым мы сравниваем данные, нет ни одного оцениваемого по выборке параметра, число степеней свободы $K-1$, где $K$ — количество интервалов).\n",
    "\n",
    "Посчитайте достигаемый уровень значимости.  \n",
    "\n",
    "Если вы используете функцию scipy.stats.chi2.cdf, в качестве значения параметра df нужно взять 24 (это число степеней свободы); если функцию scipy.stats.chisquare  — параметр ddof нужно брать равным 0 (это как раз количество параметров теоретического распределения, оцениваемых по выборке).\n",
    "\n",
    "Отвергается ли гипотеза равномерности на уровне значимости 0.05?"
   ]
  },
  {
   "cell_type": "raw",
   "metadata": {},
   "source": [
    "pvalue=2.574669774967279e-20  значит отвергается.\n",
    "Дальше надо разобраться, как получить тоже самое с помощью scipy.stats.chi2.cdf"
   ]
  },
  {
   "cell_type": "code",
   "execution_count": 189,
   "metadata": {},
   "outputs": [],
   "source": [
    "from scipy.stats import chi2\n",
    "\n",
    "rv = chi2.cdf(real_count_trees, df = 24)"
   ]
  },
  {
   "cell_type": "code",
   "execution_count": 179,
   "metadata": {},
   "outputs": [
    {
     "data": {
      "text/plain": [
       "[<matplotlib.lines.Line2D at 0x1c2015c0608>]"
      ]
     },
     "execution_count": 179,
     "metadata": {},
     "output_type": "execute_result"
    },
    {
     "data": {
      "image/png": "[encoded data removed]",
      "text/plain": [
       "<Figure size 432x288 with 1 Axes>"
      ]
     },
     "metadata": {
      "needs_background": "light"
     },
     "output_type": "display_data"
    }
   ],
   "source": [
    "df = 24\n",
    "x = np.linspace(chi2.ppf(0.01, df),\n",
    "                chi2.ppf(0.99, df), 100)\n",
    "plot(x, chi2.cdf(x, df),\n",
    "       'r-', lw=5, alpha=0.6)"
   ]
  },
  {
   "cell_type": "code",
   "execution_count": null,
   "metadata": {},
   "outputs": [],
   "source": []
  }
 ],
 "metadata": {
  "kernelspec": {
   "display_name": "Python 3",
   "language": "python",
   "name": "python3"
  },
  "language_info": {
   "codemirror_mode": {
    "name": "ipython",
    "version": 3
   },
   "file_extension": ".py",
   "mimetype": "text/x-python",
   "name": "python",
   "nbconvert_exporter": "python",
   "pygments_lexer": "ipython3",
   "version": "3.7.4"
  }
 },
 "nbformat": 4,
 "nbformat_minor": 2
}
